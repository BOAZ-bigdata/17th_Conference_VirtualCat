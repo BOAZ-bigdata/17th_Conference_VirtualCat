{
  "nbformat": 4,
  "nbformat_minor": 0,
  "metadata": {
    "colab": {
      "provenance": []
    },
    "kernelspec": {
      "name": "python3",
      "display_name": "Python 3"
    },
    "language_info": {
      "name": "python"
    }
  },
  "cells": [
    {
      "cell_type": "markdown",
      "source": [
        "# Setting Up StyleGAN2_tf in Google Colab\n",
        "## Requirements\n",
        "- One or more high-end NVIDIA GPUs -> One GPU in Colab\n",
        "- Python 3.6.x\n",
        "- NVIDIA driver, CUDA 10.0 toolkit, cuDNN 7.5\n",
        "- Pip 20.0.2\n",
        "- TensorFlow 1.15\n",
        "- Required Packages"
      ],
      "metadata": {
        "id": "_id6c4VSmT6H"
      }
    },
    {
      "cell_type": "markdown",
      "source": [
        "### Python 3.6.x"
      ],
      "metadata": {
        "id": "Ifzv72yTnvDw"
      }
    },
    {
      "cell_type": "code",
      "source": [
        "# colab default version check\n",
        "!python --version"
      ],
      "metadata": {
        "id": "qemE7owEnqy0"
      },
      "execution_count": null,
      "outputs": []
    },
    {
      "cell_type": "code",
      "source": [
        "!wget https://www.python.org/ftp/python/3.6.9/Python-3.6.9.tgz\n",
        "!tar xvfz Python-3.6.9.tgz\n",
        "!Python-3.6.9/configure\n",
        "!make\n",
        "!sudo make install"
      ],
      "metadata": {
        "id": "aNJkJMYooDBk"
      },
      "execution_count": null,
      "outputs": []
    },
    {
      "cell_type": "markdown",
      "source": [
        "### NVIDIA driver, CUDA 10.0 toolkit, cuDNN 7.5"
      ],
      "metadata": {
        "id": "uQCA71pdoici"
      }
    },
    {
      "cell_type": "code",
      "source": [
        "# Uninstall the current CUDA version\n",
        "!apt-get --purge remove cuda nvidia* libnvidia-*\n",
        "!dpkg -l | grep cuda- | awk '{print $2}' | xargs -n1 dpkg --purge\n",
        "!apt-get remove cuda-*\n",
        "!apt autoremove\n",
        "!apt-get update"
      ],
      "metadata": {
        "id": "2J9mKhwHonIA"
      },
      "execution_count": null,
      "outputs": []
    },
    {
      "cell_type": "code",
      "source": [
        "# Install CUDA 10.0 version\n",
        "!wget https://developer.download.nvidia.com/compute/cuda/repos/ubuntu1804/x86_64/cuda-repo-ubuntu1804_10.0.130-1_amd64.deb\n",
        "!sudo dpkg -i cuda-repo-ubuntu1804_10.0.130-1_amd64.deb\n",
        "!sudo apt-key adv --fetch-keys https://developer.download.nvidia.com/compute/cuda/repos/ubuntu1804/x86_64/7fa2af80.pub\n",
        "!sudo apt-get update\n",
        "!wget http://developer.download.nvidia.com/compute/machine-learning/repos/ubuntu1804/x86_64/nvidia-machine-learning-repo-ubuntu1804_1.0.0-1_amd64.deb\n",
        "!sudo apt install -y ./nvidia-machine-learning-repo-ubuntu1804_1.0.0-1_amd64.deb\n",
        "!sudo apt-get update"
      ],
      "metadata": {
        "id": "dbqir_evoqO7"
      },
      "execution_count": null,
      "outputs": []
    },
    {
      "cell_type": "code",
      "source": [
        "# Install NVIDIA driver\n",
        "#!sudo apt-get install --no-install-recommends nvidia-driver-418\n",
        "!sudo apt-get -y installnvidia-driver-418"
      ],
      "metadata": {
        "id": "exzK4KxWoxuP"
      },
      "execution_count": null,
      "outputs": []
    },
    {
      "cell_type": "code",
      "source": [
        "# Reboot. Check that GPUs are visible using the below command\n",
        "!nvidia-smi\n",
        "!nvcc -V"
      ],
      "metadata": {
        "id": "ZJT801qKo6TE"
      },
      "execution_count": null,
      "outputs": []
    },
    {
      "cell_type": "code",
      "source": [
        "# Install development and runtime libraries (~4GB)\n",
        "#!sudo apt-get install --no-install-recommends \\\n",
        "!sudo apt-get install -y \\\n",
        "    cuda-10-0 \\\n",
        "    libcudnn7=7.6.2.24-1+cuda10.0  \\\n",
        "    libcudnn7-dev=7.6.2.24-1+cuda10.0"
      ],
      "metadata": {
        "id": "N3TPsThXpKPy"
      },
      "execution_count": null,
      "outputs": []
    },
    {
      "cell_type": "code",
      "source": [
        "# Install TensorRT. Requires that libcudnn7 is installed above.\n",
        "# !sudo apt-get install -y --no-install-recommends libnvinfer5=5.1.5-1+cuda10.0 \\\n",
        "!sudo apt-get install -y libnvinfer5=5.1.5-1+cuda10.0 \\\n",
        "    libnvinfer-dev=5.1.5-1+cuda10.0"
      ],
      "metadata": {
        "id": "WGZlAspopT75"
      },
      "execution_count": null,
      "outputs": []
    },
    {
      "cell_type": "code",
      "source": [
        "# --fix-broken option ensures the update process is performed without APT returning an error.\n",
        "!apt --fix-broken install"
      ],
      "metadata": {
        "id": "OPey8Nc7pWbo"
      },
      "execution_count": null,
      "outputs": []
    },
    {
      "cell_type": "markdown",
      "source": [
        "### Pip 20.0.2"
      ],
      "metadata": {
        "id": "oo6cx8CapudL"
      }
    },
    {
      "cell_type": "code",
      "source": [
        "# Since Python has been reinstalled, the pip must also be reinstalled.\n",
        "!python -m pip install pip==20.0.2"
      ],
      "metadata": {
        "id": "A1vlARP2qPlj"
      },
      "execution_count": null,
      "outputs": []
    },
    {
      "cell_type": "code",
      "source": [
        "# pip version check\n",
        "%pip --version"
      ],
      "metadata": {
        "id": "y4RwYQaCqUa5"
      },
      "execution_count": null,
      "outputs": []
    },
    {
      "cell_type": "markdown",
      "source": [
        "### Tensorflow 1.15"
      ],
      "metadata": {
        "id": "34j5N77bqozI"
      }
    },
    {
      "cell_type": "code",
      "source": [
        "# Not tensorflow==1.15.3. Tensorflow will not be able to find GPU when this package is installed.\n",
        "%pip install tensorflow-gpu==1.15.3"
      ],
      "metadata": {
        "id": "cBRSGsVOqsal"
      },
      "execution_count": null,
      "outputs": []
    },
    {
      "cell_type": "markdown",
      "source": [
        "### Required Packages\n"
      ],
      "metadata": {
        "id": "81XqgMffrPEv"
      }
    },
    {
      "cell_type": "code",
      "source": [
        "%pip install requests==2.22.0\n",
        "%pip install scipy==1.3.3\n",
        "%pip install Pillow==6.2.1\n",
        "%pip install https://github.com/podgorskiy/dnnlib/releases/download/0.0.1/dnnlib-0.0.1-py3-none-any.whl\n",
        "%pip install tqdm"
      ],
      "metadata": {
        "id": "K8lKqAc9rX8D"
      },
      "execution_count": null,
      "outputs": []
    },
    {
      "cell_type": "markdown",
      "source": [
        "\n",
        "\n",
        "---\n",
        "\n"
      ],
      "metadata": {
        "id": "FqSoWOAKrvE5"
      }
    },
    {
      "cell_type": "markdown",
      "source": [
        "Now,\n",
        "Git Clone Repositories based StyleGAN2  \n",
        "And Mount Google Drive"
      ],
      "metadata": {
        "id": "fBfcGxOFrf4a"
      }
    }
  ]
}
